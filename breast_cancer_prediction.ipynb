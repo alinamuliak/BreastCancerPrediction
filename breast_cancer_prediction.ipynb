#%%

import pandas as pd
import seaborn as sns

#%% md

# Download dataset

#%%

import os
os.environ['KAGGLE_USERNAME'] = 'alinemuliak'
os.environ['KAGGLE_KEY'] = '7ec67430c3c1bc88a1d01086de5aa612'


#%%

! kaggle datasets download -d uciml/breast-cancer-wisconsin-data

#%%

! unzip /content/breast-cancer-wisconsin-data.zip

#%% md

# Load & Explore Data

#%%

df = pd.read_csv('/content/data.csv')
df.head()

#%%

# count number of null(empty) values
df.isna().sum()

#%%

df.dropna(axis=1, inplace=True)

#%%

# get count of number of M or B cells in diagnosis
df['diagnosis'].value_counts()

#%% md

# Label Encoding

#%%

# get Datatypes of each column in our dataset
df.dtypes

#%%

# encode the diagnosis values
from sklearn.preprocessing import LabelEncoder
label_encoder = LabelEncoder()
df.iloc[:,1] = label_encoder.fit_transform(df.iloc[:,1].values)
df.head()

#%% md

# Split Dataset & Feature Scaling

#%%

# split the dataset into independent and dependent datasets
X = df.iloc[:,2:].values
Y = df.iloc[:,1].values

#%%

# splitting datasets into training(75%) and testing(25%)
from sklearn.model_selection import train_test_split
X_train, X_test, Y_train, Y_test = train_test_split(X, Y, test_size=0.25)

#%%

# scaling the data (feature scaling)
from sklearn.preprocessing import StandardScaler
sc = StandardScaler()
X_train = sc.fit_transform(X_train)
X_test = sc.fit_transform(X_test)
X_train

#%% md

# Build a Logistic Regression Model

#%%

# build a logistic regression classifier
from sklearn.linear_model import LogisticRegression
classifier = LogisticRegression()
classifier.fit(X_train, Y_train)

#%%

# make use of trained model to make predictions on test data
predictions = classifier.predict(X_test)

#%% md

# Performance Evaluation

#%%

# plot confusion matrix
from sklearn.metrics import confusion_matrix
cm = confusion_matrix(Y_test, predictions)
print(cm)
sns.heatmap(cm, annot=True)

#%%

# get accuracy score for model
from sklearn.metrics import accuracy_score
print(accuracy_score(Y_test, predictions))

#%% md

Accuracy of the trained model is very high, which is good.
